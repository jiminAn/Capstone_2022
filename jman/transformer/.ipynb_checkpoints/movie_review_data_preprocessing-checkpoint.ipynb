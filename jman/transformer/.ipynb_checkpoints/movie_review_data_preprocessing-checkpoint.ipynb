{
 "cells": [
  {
   "cell_type": "markdown",
   "metadata": {},
   "source": [
    "# Naver 영화리뷰 감정분석 데이터 전처리\n",
    "- [naver 영화리뷰 감정분석 데이터 전처리하기](https://paul-hyun.github.io/preprocess-nsmc/)"
   ]
  },
  {
   "cell_type": "markdown",
   "metadata": {},
   "source": [
    "# 0. Settings"
   ]
  },
  {
   "cell_type": "code",
   "execution_count": 27,
   "metadata": {},
   "outputs": [],
   "source": [
    "#!pip install wget\n",
    "#!pip install pandas\n",
    "#!conda upgrade --all -y"
   ]
  },
  {
   "cell_type": "code",
   "execution_count": 1,
   "metadata": {},
   "outputs": [],
   "source": [
    "import wget\n",
    "import sentencepiece as spm\n",
    "import json\n",
    "import pandas as pd"
   ]
  },
  {
   "cell_type": "markdown",
   "metadata": {},
   "source": [
    "\n",
    "# 1. Download\n",
    "- 학습 데이터 : ratings_train.txt\n",
    "- 평가 데이터 : ratings_test.txt"
   ]
  },
  {
   "cell_type": "code",
   "execution_count": 2,
   "metadata": {},
   "outputs": [],
   "source": [
    "url = 'https://raw.githubusercontent.com/e9t/nsmc/master/'\n",
    "train_data = wget.download(url+'ratings_train.txt')\n",
    "test_data = wget.download(url+'ratings_test.txt')"
   ]
  },
  {
   "cell_type": "markdown",
   "metadata": {},
   "source": [
    "# 2. Vocab"
   ]
  },
  {
   "cell_type": "code",
   "execution_count": 4,
   "metadata": {},
   "outputs": [
    {
     "data": {
      "text/plain": [
       "True"
      ]
     },
     "execution_count": 4,
     "metadata": {},
     "output_type": "execute_result"
    }
   ],
   "source": [
    "# vocab loading\n",
    "vocab_file = \"./data/kowiki.model\"\n",
    "vocab = spm.SentencePieceProcessor()\n",
    "vocab.load(vocab_file)"
   ]
  },
  {
   "cell_type": "markdown",
   "metadata": {},
   "source": [
    "# 2. Preprocessing the Data\n",
    "### 전처리된 파일 생성\n",
    "- train data : ratings_train.json\n",
    "- test data : ratings_test.json"
   ]
  },
  {
   "cell_type": "code",
   "execution_count": 8,
   "metadata": {},
   "outputs": [],
   "source": [
    "\"\"\"prepare the train data\"\"\"\n",
    "def prepare_train(vocab, infile, outfile):\n",
    "    df = pd.read_csv(infile, sep='\\t', engine='python')\n",
    "    with open(outfile,'w') as f:\n",
    "        for idx, row in df.iterrows():\n",
    "            document = row[\"document\"]\n",
    "            if type(document) != str:\n",
    "                continue\n",
    "            instance = {\"id\":row[\"id\"], \"doc\":vocab.encode_as_pieces(document),\"label\":row[\"label\"]}\n",
    "            f.write(json.dumps(instance))\n",
    "            f.write('\\n')"
   ]
  },
  {
   "cell_type": "code",
   "execution_count": 7,
   "metadata": {},
   "outputs": [],
   "source": [
    "prepare_train(vocab, train_data, \"./data/ratings_train.json\")\n",
    "prepare_train(vocab, test_data, \"./data/ratings_test.json\")"
   ]
  }
 ],
 "metadata": {
  "kernelspec": {
   "display_name": "Python 3",
   "language": "python",
   "name": "python3"
  },
  "language_info": {
   "codemirror_mode": {
    "name": "ipython",
    "version": 3
   },
   "file_extension": ".py",
   "mimetype": "text/x-python",
   "name": "python",
   "nbconvert_exporter": "python",
   "pygments_lexer": "ipython3",
   "version": "3.7.6"
  }
 },
 "nbformat": 4,
 "nbformat_minor": 4
}
