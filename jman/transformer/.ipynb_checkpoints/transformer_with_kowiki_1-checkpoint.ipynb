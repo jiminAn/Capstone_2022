{
 "cells": [
  {
   "cell_type": "markdown",
   "metadata": {},
   "source": [
    "# Transformer (Attention Is All You Need) 구현하기 (1/3)\n",
    "- [code 참고 : transformer 구현하기(1/3)](https://paul-hyun.github.io/transformer-01/)\n",
    "- [이론참고 : Attention is all you need 뽀개기](https://pozalabs.github.io/transformer/)"
   ]
  },
  {
   "cell_type": "markdown",
   "metadata": {},
   "source": [
    "# 0. Settings"
   ]
  },
  {
   "cell_type": "code",
   "execution_count": 4,
   "metadata": {},
   "outputs": [
    {
     "name": "stdout",
     "output_type": "stream",
     "text": [
      "Requirement already satisfied: sentencepiece in /Users/mac/opt/anaconda3/lib/python3.7/site-packages (0.1.95)\r\n"
     ]
    }
   ],
   "source": [
    "!pip install sentencepiece"
   ]
  },
  {
   "cell_type": "code",
   "execution_count": 1,
   "metadata": {},
   "outputs": [],
   "source": [
    "import sentencepiece as spm\n",
    "import torch\n",
    "import torch.nn as nn\n",
    "import numpy as np\n",
    "import matplotlib.pyplot as plt\n",
    "import torch.nn.functional as F"
   ]
  },
  {
   "cell_type": "markdown",
   "metadata": {},
   "source": [
    "# 1. Vocab\n",
    "- sentencepiece로 미리 생성해둔 vocab을 이용해 입력 텍스트를 tensor로 변경\n",
    "- line 21: batch_first = True할 경우 default인 BxT -> TxB로 나와 보기 편함\n",
    "    - B : batch_size\n",
    "    - T : length of the longest sequence"
   ]
  },
  {
   "cell_type": "code",
   "execution_count": 11,
   "metadata": {},
   "outputs": [
    {
     "name": "stdout",
     "output_type": "stream",
     "text": [
      "['▁겨울', '은', '▁추', '워', '요', '.']\n",
      "['▁감', '기', '▁조', '심', '하', '세', '요', '.']\n"
     ]
    },
    {
     "data": {
      "text/plain": [
       "(torch.Size([2, 8]),\n",
       " tensor([[3159, 3533,  200, 3883, 3688, 3519,    0,    0],\n",
       "         [ 206, 3534,   53, 3759, 3525, 3613, 3688, 3519]]))"
      ]
     },
     "execution_count": 11,
     "metadata": {},
     "output_type": "execute_result"
    }
   ],
   "source": [
    "# vocab loading\n",
    "vocab_file = \"./data/kowiki.model\"\n",
    "vocab = spm.SentencePieceProcessor()\n",
    "vocab.load(vocab_file)\n",
    "\n",
    "# input texts\n",
    "lines = [\n",
    "    \"겨울은 추워요.\",\n",
    "    \"감기 조심하세요.\"\n",
    "]\n",
    "\n",
    "# text to tensor\n",
    "inputs = []\n",
    "for line in lines:\n",
    "    pieces = vocab.encode_as_pieces(line)\n",
    "    ids = vocab.encode_as_ids(line)\n",
    "    inputs.append(torch.tensor(ids))\n",
    "    print(pieces)\n",
    "    \n",
    "    \n",
    "# 입력 길이가 다르므로 입력 최대 길이에 맞춰 padding(0)을 추가\n",
    "inputs = torch.nn.utils.rnn.pad_sequence(inputs, batch_first = True, padding_value = 0)\n",
    "# shape and value\n",
    "inputs.size(), inputs"
   ]
  },
  {
   "cell_type": "markdown",
   "metadata": {},
   "source": [
    "# 2. Embedding\n",
    "- Transformer의 임베딩은 아래의 두 가지 방법을 합해서 사용\n",
    "1. Input embedding\n",
    "2. Position Embedding"
   ]
  },
  {
   "cell_type": "markdown",
   "metadata": {},
   "source": [
    "## 2-1. Input Embedding\n",
    "- 임베딩은 입력 토큰을 벡터 형태로 변환함\n",
    "### 1) 인풋에 대한 임베딩 값 input_embs구하기\n",
    "- inputs(2,8)에 대한 임베딩 값 input_embs(2,8,128) shape을 가짐"
   ]
  },
  {
   "cell_type": "code",
   "execution_count": 14,
   "metadata": {},
   "outputs": [
    {
     "data": {
      "text/plain": [
       "torch.Size([2, 8, 128])"
      ]
     },
     "execution_count": 14,
     "metadata": {},
     "output_type": "execute_result"
    }
   ],
   "source": [
    "n_vocab = len(vocab) # vocab count\n",
    "d_hidn = 128 # hidden size\n",
    "nn_emb = nn.Embedding(n_vocab, d_hidn) # embedding object\n",
    "\n",
    "input_embs = nn_emb(inputs) # input embedding\n",
    "input_embs.size()"
   ]
  },
  {
   "cell_type": "markdown",
   "metadata": {},
   "source": [
    "## 2-2. Position Embedding\n",
    "1. 각 포지션 별로 angle 값 구하기\n",
    "2. 구해진 angle 중 짝수 idx 값에 대한 sin값 구하기\n",
    "3. 구해진 angle 중 홀수 idx 값에 대한 cos값 구하기\n",
    "\n",
    "**position encoding function**\n",
    "- [계산 참고](https://skyjwoo.tistory.com/entry/positional-encoding%EC%9D%B4%EB%9E%80-%EB%AC%B4%EC%97%87%EC%9D%B8%EA%B0%80)\n",
    "- [positional encoding table 이해 참고](https://www.youtube.com/watch?v=dichIcUZfOw&t=639s)"
   ]
  },
  {
   "cell_type": "code",
   "execution_count": 15,
   "metadata": {},
   "outputs": [],
   "source": [
    "\"\"\"sinusoid position embedding\"\"\"\n",
    "def get_sinusoid_encoding_table(n_seq, d_hidn):\n",
    "    def cal_angle(position, i_hidn):\n",
    "        return position / np.power(10000, 2 * (i_hidn // 2) / d_hidn)\n",
    "    def get_posi_angle_vec(position):\n",
    "        return [cal_angle(position, i_hidn) for i_hidn in range(d_hidn)]\n",
    "\n",
    "    sinusoid_table = np.array([get_posi_angle_vec(i_seq) for i_seq in range(n_seq)])\n",
    "    sinusoid_table[:, 0::2] = np.sin(sinusoid_table[:, 0::2])  # even index sin \n",
    "    sinusoid_table[:, 1::2] = np.cos(sinusoid_table[:, 1::2])  # odd index cos\n",
    "\n",
    "    return sinusoid_table"
   ]
  },
  {
   "cell_type": "code",
   "execution_count": 16,
   "metadata": {},
   "outputs": [
    {
     "name": "stdout",
     "output_type": "stream",
     "text": [
      "(8, 128)\n"
     ]
    },
    {
     "data": {
      "image/png": "[encoded data removed]",
      "text/plain": [
       "<Figure size 432x288 with 2 Axes>"
      ]
     },
     "metadata": {
      "needs_background": "light"
     },
     "output_type": "display_data"
    }
   ],
   "source": [
    "n_seq = 64 # ?? : seq길이는 8인데 왜 64로 설정\n",
    "pos_encoding = get_sinusoid_encoding_table(n_seq, d_hidn)\n",
    "print(pos_encoding.shape) # 크기 출력\n",
    "plt.pcolormesh(pos_encoding, cmap='RdBu')\n",
    "plt.xlabel('Depth')\n",
    "plt.xlim((0, d_hidn))\n",
    "plt.ylabel('Position')\n",
    "plt.colorbar()\n",
    "plt.show()"
   ]
  },
  {
   "cell_type": "markdown",
   "metadata": {},
   "source": [
    "### position embedding 값을 구하는 절차\n",
    "1. 위에서 구해진 position encoding값을 이용해 position embedding 생성\n",
    "    - 학습되는 값이 아니므로 freeze 옵션을 True로 설정\n",
    "2. 입력 inputs과 동일한 크기를 갖는 positions 값 구하기\n",
    "3. input값 중 pad(0)값 찾기\n",
    "4. positions 값 중 pad 부분은 0으로 변경\n",
    "5. positions 값에 해당하는 embedding 값 구하기"
   ]
  },
  {
   "cell_type": "code",
   "execution_count": 10,
   "metadata": {},
   "outputs": [
    {
     "data": {
      "text/plain": [
       "(tensor([0, 1, 2, 3, 4, 5, 6, 7]),\n",
       " tensor([[0, 1, 2, 3, 4, 5, 6, 7],\n",
       "         [0, 1, 2, 3, 4, 5, 6, 7]]),\n",
       " tensor([[1, 2, 3, 4, 5, 6, 7, 8],\n",
       "         [1, 2, 3, 4, 5, 6, 7, 8]]))"
      ]
     },
     "execution_count": 10,
     "metadata": {},
     "output_type": "execute_result"
    }
   ],
   "source": [
    "# 궁금해서 찍어봄\n",
    "tmp = torch.arange(8)\n",
    "tmp, tmp.expand(2,8), tmp.expand(2,8).contiguous() + 1"
   ]
  },
  {
   "cell_type": "code",
   "execution_count": 11,
   "metadata": {},
   "outputs": [
    {
     "data": {
      "text/plain": [
       "tensor([[False, False, False, False, False, False,  True,  True],\n",
       "        [False, False, False, False, False, False, False, False]])"
      ]
     },
     "execution_count": 11,
     "metadata": {},
     "output_type": "execute_result"
    }
   ],
   "source": [
    "# 궁금해서 찍어봄 \n",
    "inputs.eq(0)"
   ]
  },
  {
   "cell_type": "code",
   "execution_count": 12,
   "metadata": {},
   "outputs": [
    {
     "data": {
      "text/plain": [
       "(tensor([[3159, 3533,  200, 3883, 3688, 3519,    0,    0],\n",
       "         [ 206, 3534,   53, 3759, 3525, 3613, 3688, 3519]]),\n",
       " tensor([[1, 2, 3, 4, 5, 6, 0, 0],\n",
       "         [1, 2, 3, 4, 5, 6, 7, 8]]),\n",
       " torch.Size([2, 8, 128]))"
      ]
     },
     "execution_count": 12,
     "metadata": {},
     "output_type": "execute_result"
    }
   ],
   "source": [
    "pos_encoding = torch.FloatTensor(pos_encoding)\n",
    "nn_pos = nn.Embedding.from_pretrained(pos_encoding, freeze = True)\n",
    "\n",
    "# torch.arange(end = 8, device = cpu, dtype = torch.int64)\n",
    "positions = torch.arange(inputs.size(1), device = inputs.device, \n",
    "                         dtype=inputs.dtype).expand(inputs.size(0),\n",
    "                                                    inputs.size(1)).contiguous() + 1\n",
    "# inputs.eq(0) : 값이 0일 경우 True 반환\n",
    "pos_mask = inputs.eq(0)\n",
    "positions.masked_fill_(pos_mask, 0)\n",
    "pos_embs = nn_pos(positions) # Position Embedding\n",
    "\n",
    "inputs, positions, pos_embs.size()"
   ]
  },
  {
   "cell_type": "markdown",
   "metadata": {},
   "source": [
    "- input_embs, pos_embs는 (2,8,128)로 동일함\n",
    "- 두 값을 더한게 transformer에 입력할 Input값이 됨"
   ]
  },
  {
   "cell_type": "code",
   "execution_count": 13,
   "metadata": {},
   "outputs": [],
   "source": [
    "inputs_sums = input_embs + pos_embs"
   ]
  },
  {
   "cell_type": "markdown",
   "metadata": {},
   "source": [
    "# 3. Scaled Dot Product Attention\n",
    "- [상세 계산 내용 참고](https://simpling.tistory.com/3)\n",
    "1. MatMul : Q,K\n",
    "2. Scale\n",
    "3. Mask(opt.)\n",
    "4. SoftMax\n",
    "5. MatMul : V\n",
    "\n",
    "### 입력값 : Query, Key, Value 그리고 Attention Mask로 구성 됨\n",
    "- 입력값 중 K,V는 같은 값이어야 함\n",
    "    - Q,K,V가 모두 동일할 경우 self attention이라 함"
   ]
  },
  {
   "cell_type": "code",
   "execution_count": 14,
   "metadata": {},
   "outputs": [
    {
     "data": {
      "text/plain": [
       "(torch.Size([2, 8, 8]),\n",
       " tensor([[False, False, False, False, False, False,  True,  True],\n",
       "         [False, False, False, False, False, False,  True,  True],\n",
       "         [False, False, False, False, False, False,  True,  True],\n",
       "         [False, False, False, False, False, False,  True,  True],\n",
       "         [False, False, False, False, False, False,  True,  True],\n",
       "         [False, False, False, False, False, False,  True,  True],\n",
       "         [False, False, False, False, False, False,  True,  True],\n",
       "         [False, False, False, False, False, False,  True,  True]]))"
      ]
     },
     "execution_count": 14,
     "metadata": {},
     "output_type": "execute_result"
    }
   ],
   "source": [
    "Q = K = V = inputs_sums # self attention\n",
    "\n",
    "# inputs.eq(0) : pad(0) 부분만 True\n",
    "# .unsqueeze(1) : size[2,8] -> 두 번째 차원에 1인 차원 추가 -> size[2, 1, 8]\n",
    "# .expand(2,8,8)\n",
    "attn_mask = inputs.eq(0).unsqueeze(1).expand(Q.size(0), Q.size(1), K.size(1))\n",
    "attn_mask.size(), attn_mask[0]"
   ]
  },
  {
   "cell_type": "markdown",
   "metadata": {},
   "source": [
    "## 3-1. MatMul : Q, K\n",
    "### 각 단어 상호간에 가중치를 표현하는 테이블 생성\n",
    "- Query와 Key의 행렬 계산은 Q * K-transpose 수행\n",
    "    - 이는 내적 연산과 같은 과정으로 각 단어에 대한 attention score를 구할 수 있음 \n",
    "- 내적 연산 결과는 -1~1사이의 값을 가짐\n",
    "    - 어떤 쿼리와 키가 중요한 역할을 하고 있다면 attention block은 이들 사이의 내적 값을 키우는 방식으로 학습\n",
    "    - 내적 값이 커지면 해당 쿼리와 키가 벡터 공간상 가까이 있을 가능성이 큼"
   ]
  },
  {
   "cell_type": "code",
   "execution_count": 15,
   "metadata": {},
   "outputs": [
    {
     "data": {
      "text/plain": [
       "(torch.Size([2, 8, 8]),\n",
       " tensor([[256.1583, 104.4680,  65.3711,  29.4813,  62.5547,  62.6991,  88.3033,\n",
       "           88.3033],\n",
       "         [104.4680, 195.1366,  82.5526,  25.6877,  53.8009,  73.9358,  90.9810,\n",
       "           90.9810],\n",
       "         [ 65.3711,  82.5526, 182.4587,  34.8768,  60.5217,  84.4586,  75.8325,\n",
       "           75.8325],\n",
       "         [ 29.4813,  25.6877,  34.8768, 166.8790,  44.9379,  44.0540,  -2.1669,\n",
       "           -2.1669],\n",
       "         [ 62.5547,  53.8009,  60.5217,  44.9379, 177.5070,  78.3394,  27.0040,\n",
       "           27.0040],\n",
       "         [ 62.6991,  73.9358,  84.4586,  44.0540,  78.3394, 197.2271,  65.5387,\n",
       "           65.5387],\n",
       "         [ 88.3033,  90.9810,  75.8324,  -2.1669,  27.0040,  65.5387, 216.6062,\n",
       "          216.6062],\n",
       "         [ 88.3033,  90.9810,  75.8324,  -2.1669,  27.0040,  65.5387, 216.6062,\n",
       "          216.6062]], grad_fn=<SelectBackward>))"
      ]
     },
     "execution_count": 15,
     "metadata": {},
     "output_type": "execute_result"
    }
   ],
   "source": [
    "scores = torch.matmul(Q, K.transpose(-1,-2))\n",
    "scores.size(), scores[0]"
   ]
  },
  {
   "cell_type": "markdown",
   "metadata": {},
   "source": [
    "## 3-2. Scale\n",
    "- 행렬 연산(내적) 후 벡터의 차원이 커지면 학습이 잘 안될 수 있으므로 스케일링 과정 거침\n",
    "    - k-dimension에 루트를 취한 값으로 나누어 줌\n",
    "- 가중치 편차가 scale 전과 비교하여 줄어듬을 확인할 수 있음"
   ]
  },
  {
   "cell_type": "code",
   "execution_count": 16,
   "metadata": {},
   "outputs": [
    {
     "data": {
      "text/plain": [
       "(torch.Size([2, 8, 8]),\n",
       " tensor([[32.0198, 13.0585,  8.1714,  3.6852,  7.8193,  7.8374, 11.0379, 11.0379],\n",
       "         [13.0585, 24.3921, 10.3191,  3.2110,  6.7251,  9.2420, 11.3726, 11.3726],\n",
       "         [ 8.1714, 10.3191, 22.8073,  4.3596,  7.5652, 10.5573,  9.4791,  9.4791],\n",
       "         [ 3.6852,  3.2110,  4.3596, 20.8599,  5.6172,  5.5068, -0.2709, -0.2709],\n",
       "         [ 7.8193,  6.7251,  7.5652,  5.6172, 22.1884,  9.7924,  3.3755,  3.3755],\n",
       "         [ 7.8374,  9.2420, 10.5573,  5.5068,  9.7924, 24.6534,  8.1923,  8.1923],\n",
       "         [11.0379, 11.3726,  9.4791, -0.2709,  3.3755,  8.1923, 27.0758, 27.0758],\n",
       "         [11.0379, 11.3726,  9.4791, -0.2709,  3.3755,  8.1923, 27.0758, 27.0758]],\n",
       "        grad_fn=<SelectBackward>))"
      ]
     },
     "execution_count": 16,
     "metadata": {},
     "output_type": "execute_result"
    }
   ],
   "source": [
    "d_head = 64\n",
    "scores = scores.mul_(1/d_head ** 0.5)\n",
    "scores.size(), scores[0]"
   ]
  },
  {
   "cell_type": "markdown",
   "metadata": {},
   "source": [
    "## 3-3. Mask (Opt.)\n",
    "- 자신보다 뒤에 있는 단어를 참고하지 않게 해주기 위해 mask해줌 \n",
    "    - 전체 문장을 한 번에 행렬 형태로 입력하는 구조임\n",
    "    - 따라서 mask를 하지않을 경우 자신보다 뒤에 있는 단어를 참고해서 단어를 예측하는 상황이 생길 수 있음\n",
    "- Qeury 단어 뒤에 나오는 Key 단어들에 대해서 masking 진행"
   ]
  },
  {
   "cell_type": "code",
   "execution_count": 17,
   "metadata": {},
   "outputs": [
    {
     "data": {
      "text/plain": [
       "(torch.Size([2, 8, 8]),\n",
       " tensor([[ 3.2020e+01,  1.3058e+01,  8.1714e+00,  3.6852e+00,  7.8193e+00,\n",
       "           7.8374e+00, -1.0000e+09, -1.0000e+09],\n",
       "         [ 1.3058e+01,  2.4392e+01,  1.0319e+01,  3.2110e+00,  6.7251e+00,\n",
       "           9.2420e+00, -1.0000e+09, -1.0000e+09],\n",
       "         [ 8.1714e+00,  1.0319e+01,  2.2807e+01,  4.3596e+00,  7.5652e+00,\n",
       "           1.0557e+01, -1.0000e+09, -1.0000e+09],\n",
       "         [ 3.6852e+00,  3.2110e+00,  4.3596e+00,  2.0860e+01,  5.6172e+00,\n",
       "           5.5068e+00, -1.0000e+09, -1.0000e+09],\n",
       "         [ 7.8193e+00,  6.7251e+00,  7.5652e+00,  5.6172e+00,  2.2188e+01,\n",
       "           9.7924e+00, -1.0000e+09, -1.0000e+09],\n",
       "         [ 7.8374e+00,  9.2420e+00,  1.0557e+01,  5.5068e+00,  9.7924e+00,\n",
       "           2.4653e+01, -1.0000e+09, -1.0000e+09],\n",
       "         [ 1.1038e+01,  1.1373e+01,  9.4791e+00, -2.7086e-01,  3.3755e+00,\n",
       "           8.1923e+00, -1.0000e+09, -1.0000e+09],\n",
       "         [ 1.1038e+01,  1.1373e+01,  9.4791e+00, -2.7086e-01,  3.3755e+00,\n",
       "           8.1923e+00, -1.0000e+09, -1.0000e+09]], grad_fn=<SelectBackward>))"
      ]
     },
     "execution_count": 17,
     "metadata": {},
     "output_type": "execute_result"
    }
   ],
   "source": [
    "scores.masked_fill_(attn_mask, -1e9)\n",
    "scores.size(), scores[0]"
   ]
  },
  {
   "cell_type": "markdown",
   "metadata": {},
   "source": [
    "## 3-4. Softmax\n",
    "- 0~1사이의 확률값으로 변환"
   ]
  },
  {
   "cell_type": "code",
   "execution_count": 18,
   "metadata": {},
   "outputs": [
    {
     "data": {
      "text/plain": [
       "(torch.Size([2, 8, 8]),\n",
       " tensor([[1.0000e+00, 5.8239e-09, 4.3931e-11, 4.9480e-13, 3.0894e-11, 3.1457e-11,\n",
       "          0.0000e+00, 0.0000e+00],\n",
       "         [1.1964e-05, 9.9999e-01, 7.7298e-07, 6.3263e-10, 2.1249e-08, 2.6326e-07,\n",
       "          0.0000e+00, 0.0000e+00],\n",
       "         [4.4023e-07, 3.7706e-06, 9.9999e-01, 9.7329e-09, 2.4012e-07, 4.7850e-06,\n",
       "          0.0000e+00, 0.0000e+00],\n",
       "         [3.4763e-08, 2.1636e-08, 6.8237e-08, 1.0000e+00, 2.3999e-07, 2.1489e-07,\n",
       "          0.0000e+00, 0.0000e+00],\n",
       "         [5.7491e-07, 1.9248e-07, 4.4590e-07, 6.3568e-08, 9.9999e-01, 4.1353e-06,\n",
       "          0.0000e+00, 0.0000e+00],\n",
       "         [4.9762e-08, 2.0272e-07, 7.5537e-07, 4.8386e-09, 3.5153e-07, 1.0000e+00,\n",
       "          0.0000e+00, 0.0000e+00],\n",
       "         [3.7502e-01, 5.2411e-01, 7.8896e-02, 4.5996e-06, 1.7633e-04, 2.1789e-02,\n",
       "          0.0000e+00, 0.0000e+00],\n",
       "         [3.7502e-01, 5.2411e-01, 7.8896e-02, 4.5996e-06, 1.7633e-04, 2.1789e-02,\n",
       "          0.0000e+00, 0.0000e+00]], grad_fn=<SelectBackward>))"
      ]
     },
     "execution_count": 18,
     "metadata": {},
     "output_type": "execute_result"
    }
   ],
   "source": [
    "attn_prob = nn.Softmax(dim=-1)(scores)\n",
    "attn_prob.size(), attn_prob[0]"
   ]
  },
  {
   "cell_type": "markdown",
   "metadata": {},
   "source": [
    "## 3-5. MatMul atten_prov, V\n",
    "- value와 행렬곱을 해줘서 각 context vector 구하기"
   ]
  },
  {
   "cell_type": "code",
   "execution_count": 19,
   "metadata": {},
   "outputs": [
    {
     "data": {
      "text/plain": [
       "torch.Size([2, 8, 128])"
      ]
     },
     "execution_count": 19,
     "metadata": {},
     "output_type": "execute_result"
    }
   ],
   "source": [
    "context = torch.matmul(attn_prob, V)\n",
    "context.size()"
   ]
  },
  {
   "cell_type": "markdown",
   "metadata": {},
   "source": [
    "### Scaled Dot Procudt Attention Class\n",
    "- 위 절차를 하나의 클래스 형태로 구성하면 아래와 같음"
   ]
  },
  {
   "cell_type": "code",
   "execution_count": 20,
   "metadata": {},
   "outputs": [],
   "source": [
    "\"\"\"scale dot product attention\"\"\"\n",
    "class ScaledDotProductAttention(nn.Module):\n",
    "    def __init__(self, d_head):\n",
    "        super().__init__()\n",
    "        self.scale = 1 / (d_head ** 0.5)\n",
    "    def forward(self, Q, K, V, attn_mask):\n",
    "        scores = torch.matmul(Q,K.transpose(-1,-2)).mul_(self.scale)\n",
    "        scores.masked_fill_(attn_mask, -1e9)\n",
    "        attn_prob = nn.Softmax(dim=-1)(scores)\n",
    "        context = torch.matmul(attn_prob, V)\n",
    "        return context, attn_prob"
   ]
  },
  {
   "cell_type": "code",
   "execution_count": 21,
   "metadata": {},
   "outputs": [],
   "source": [
    "# class를 이용하여 context vector, attention prob 구하기\n",
    "attention = ScaledDotProductAttention(64)\n",
    "Q = K = V = inputs_sums\n",
    "attn_mask = inputs.eq(0).unsqueeze(1).expand(Q.size(0), Q.size(1), K.size(1))\n",
    "context, attn_prob = attention.forward(Q,K,V,attn_mask)"
   ]
  },
  {
   "cell_type": "markdown",
   "metadata": {},
   "source": [
    "# 4. Multi-Head Attention"
   ]
  },
  {
   "cell_type": "code",
   "execution_count": 22,
   "metadata": {},
   "outputs": [],
   "source": [
    "Q = K = V = inputs_sums\n",
    "attn_mask = inputs.eq(0).unsqueeze(1).expand(Q.size(0), Q.size(1), K.size(1))\n",
    "batch_size = Q.size(0)\n",
    "n_head = 2"
   ]
  },
  {
   "cell_type": "markdown",
   "metadata": {},
   "source": [
    "## Multi Head Q, K, V\n",
    "- Q, K, V를 여러개의head로 나누는 과정  \n",
    " **nn.Linear(in_features, out_features)**\n",
    "- in_features : size of each input sample\n",
    "- out_features : size of each output sample"
   ]
  },
  {
   "cell_type": "code",
   "execution_count": 23,
   "metadata": {},
   "outputs": [
    {
     "name": "stdout",
     "output_type": "stream",
     "text": [
      "torch.Size([2, 2, 8, 64]) torch.Size([2, 2, 8, 64]) torch.Size([2, 2, 8, 64])\n"
     ]
    }
   ],
   "source": [
    "W_Q = nn.Linear(d_hidn, n_head * d_head)\n",
    "W_K = nn.Linear(d_hidn, n_head * d_head)\n",
    "W_V = nn.Linear(d_hidn, n_head * d_head)\n",
    "\n",
    "q_s = W_Q(Q).view(batch_size, -1, n_head, d_head).transpose(1,2)\n",
    "k_s = W_K(K).view(batch_size, -1, n_head, d_head).transpose(1,2)\n",
    "v_s = W_V(V).view(batch_size, -1, n_head, d_head).transpose(1,2)\n",
    "print(q_s.size(), k_s.size(), v_s.size())"
   ]
  },
  {
   "cell_type": "code",
   "execution_count": 24,
   "metadata": {},
   "outputs": [
    {
     "name": "stdout",
     "output_type": "stream",
     "text": [
      "torch.Size([2, 8, 8])\n",
      "torch.Size([2, 2, 8, 8])\n"
     ]
    }
   ],
   "source": [
    "# attention mask 도 multi head로 변경\n",
    "print(attn_mask.size())\n",
    "attn_mask = attn_mask.unsqueeze(1).repeat(1, n_head, 1, 1)\n",
    "print(attn_mask.size())"
   ]
  },
  {
   "cell_type": "markdown",
   "metadata": {},
   "source": [
    "### Attention\n",
    "- scaled Dot product Attention"
   ]
  },
  {
   "cell_type": "code",
   "execution_count": 25,
   "metadata": {},
   "outputs": [
    {
     "name": "stdout",
     "output_type": "stream",
     "text": [
      "torch.Size([2, 2, 8, 64])\n",
      "torch.Size([2, 2, 8, 8])\n"
     ]
    }
   ],
   "source": [
    "scaled_dot_attn = ScaledDotProductAttention(d_head)\n",
    "context, attn_prob = scaled_dot_attn(q_s, k_s, v_s, attn_mask)\n",
    "print(context.size())\n",
    "print(attn_prob.size())"
   ]
  },
  {
   "cell_type": "markdown",
   "metadata": {},
   "source": [
    "### Concat"
   ]
  },
  {
   "cell_type": "code",
   "execution_count": 26,
   "metadata": {},
   "outputs": [
    {
     "data": {
      "text/plain": [
       "torch.Size([2, 8, 128])"
      ]
     },
     "execution_count": 26,
     "metadata": {},
     "output_type": "execute_result"
    }
   ],
   "source": [
    "# multi head를 한 개로 합침\n",
    "context = context.transpose(1,2).contiguous().view(batch_size, -1, n_head * d_head)\n",
    "context.size()"
   ]
  },
  {
   "cell_type": "markdown",
   "metadata": {},
   "source": [
    "### Linear\n",
    "- 입력 Q와 동일한 shape을 가진 multi head attention이 구해짐"
   ]
  },
  {
   "cell_type": "code",
   "execution_count": 27,
   "metadata": {},
   "outputs": [
    {
     "data": {
      "text/plain": [
       "torch.Size([2, 8, 128])"
      ]
     },
     "execution_count": 27,
     "metadata": {},
     "output_type": "execute_result"
    }
   ],
   "source": [
    "linear = nn.Linear(n_head * d_head, d_hidn)\n",
    "output = linear(context)\n",
    "output.size()"
   ]
  },
  {
   "cell_type": "markdown",
   "metadata": {},
   "source": [
    "### Multi head Attention Class\n",
    "- 위 절차를 하나의 클래스 형태로 구성하면 아래와 같음"
   ]
  },
  {
   "cell_type": "code",
   "execution_count": 28,
   "metadata": {},
   "outputs": [],
   "source": [
    "\"\"\" multi head attention \"\"\"\n",
    "class MultiHeadAttention(nn.Module):\n",
    "    def __init__(self, d_hidn, n_head, d_head):\n",
    "        super().__init__()\n",
    "        self.d_hidn = d_hidn\n",
    "        self.n_head = n_head\n",
    "        self.d_head = d_head\n",
    "\n",
    "        self.W_Q = nn.Linear(d_hidn, n_head * d_head)\n",
    "        self.W_K = nn.Linear(d_hidn, n_head * d_head)\n",
    "        self.W_V = nn.Linear(d_hidn, n_head * d_head)\n",
    "        self.scaled_dot_attn = ScaledDotProductAttention(d_head)\n",
    "        self.linear = nn.Linear(n_head * d_head, d_hidn)\n",
    "    \n",
    "    def forward(self, Q, K, V, attn_mask):\n",
    "        batch_size = Q.size(0)\n",
    "        # (bs, n_head, n_q_seq, d_head)\n",
    "        q_s = self.W_Q(Q).view(batch_size, -1, self.n_head, self.d_head).transpose(1,2)\n",
    "        # (bs, n_head, n_k_seq, d_head)\n",
    "        k_s = self.W_K(K).view(batch_size, -1, self.n_head, self.d_head).transpose(1,2)\n",
    "        # (bs, n_head, n_v_seq, d_head)\n",
    "        v_s = self.W_V(V).view(batch_size, -1, self.n_head, self.d_head).transpose(1,2)\n",
    "\n",
    "        # (bs, n_head, n_q_seq, n_k_seq)\n",
    "        attn_mask = attn_mask.unsqueeze(1).repeat(1, self.n_head, 1, 1)\n",
    "\n",
    "        # (bs, n_head, n_q_seq, d_head), (bs, n_head, n_q_seq, n_k_seq)\n",
    "        context, attn_prob = self.scaled_dot_attn(q_s, k_s, v_s, attn_mask)\n",
    "        # (bs, n_head, n_q_seq, h_head * d_head)\n",
    "        context = context.transpose(1, 2).contiguous().view(batch_size, -1, self.n_head * self.d_head)\n",
    "        # (bs, n_head, n_q_seq, e_embd)\n",
    "        output = self.linear(context)\n",
    "        # (bs, n_q_seq, d_hidn), (bs, n_head, n_q_seq, n_k_seq)\n",
    "        return output, attn_prob"
   ]
  },
  {
   "cell_type": "markdown",
   "metadata": {},
   "source": [
    "# 5. Masked Multi-Head Attention\n",
    "- Multi-Head Attention과 attention mask를 제외한 부분은 모두 동일"
   ]
  },
  {
   "cell_type": "code",
   "execution_count": 29,
   "metadata": {},
   "outputs": [
    {
     "name": "stdout",
     "output_type": "stream",
     "text": [
      "tensor([[False, False, False, False, False, False, False, False],\n",
      "        [False, False, False, False, False, False, False, False],\n",
      "        [False, False, False, False, False, False, False, False],\n",
      "        [False, False, False, False, False, False, False, False],\n",
      "        [False, False, False, False, False, False, False, False],\n",
      "        [False, False, False, False, False, False, False, False],\n",
      "        [False, False, False, False, False, False, False, False],\n",
      "        [False, False, False, False, False, False, False, False]])\n",
      "tensor([[0, 1, 1, 1, 1, 1, 1, 1],\n",
      "        [0, 0, 1, 1, 1, 1, 1, 1],\n",
      "        [0, 0, 0, 1, 1, 1, 1, 1],\n",
      "        [0, 0, 0, 0, 1, 1, 1, 1],\n",
      "        [0, 0, 0, 0, 0, 1, 1, 1],\n",
      "        [0, 0, 0, 0, 0, 0, 1, 1],\n",
      "        [0, 0, 0, 0, 0, 0, 0, 1],\n",
      "        [0, 0, 0, 0, 0, 0, 0, 0]])\n",
      "tensor([[False,  True,  True,  True,  True,  True,  True,  True],\n",
      "        [False, False,  True,  True,  True,  True,  True,  True],\n",
      "        [False, False, False,  True,  True,  True,  True,  True],\n",
      "        [False, False, False, False,  True,  True,  True,  True],\n",
      "        [False, False, False, False, False,  True,  True,  True],\n",
      "        [False, False, False, False, False, False,  True,  True],\n",
      "        [False, False, False, False, False, False, False,  True],\n",
      "        [False, False, False, False, False, False, False, False]])\n"
     ]
    }
   ],
   "source": [
    "\"\"\" attention decoder mask \"\"\"\n",
    "def get_attn_decoder_mask(seq):\n",
    "    subsequent_mask = torch.ones_like(seq).unsqueeze(-1).expand(seq.size(0), seq.size(1), seq.size(1))\n",
    "    subsequent_mask = subsequent_mask.triu(diagonal=1) # upper triangular part of a matrix(2-D)\n",
    "    return subsequent_mask\n",
    "\n",
    "\n",
    "Q = K = V =inputs_sums\n",
    "\n",
    "attn_pad_mask = inputs.eq(0).unsqueeze(1).expand(Q.size(0), Q.size(1), K.size(1))\n",
    "print(attn_pad_mask[1])\n",
    "attn_dec_mask = get_attn_decoder_mask(inputs)\n",
    "print(attn_dec_mask[1])\n",
    "attn_mask = torch.gt((attn_pad_mask + attn_dec_mask), 0)\n",
    "print(attn_mask[1])\n",
    "\n",
    "batch_size = Q.size(0)\n",
    "n_head = 2"
   ]
  },
  {
   "cell_type": "markdown",
   "metadata": {},
   "source": [
    "### Multi-head Attention\n",
    "- 위와 동일하므로 클래스 호출"
   ]
  },
  {
   "cell_type": "code",
   "execution_count": 30,
   "metadata": {},
   "outputs": [
    {
     "name": "stdout",
     "output_type": "stream",
     "text": [
      "torch.Size([2, 8, 128]) torch.Size([2, 2, 8, 8])\n"
     ]
    }
   ],
   "source": [
    "attention = MultiHeadAttention(d_hidn, n_head, d_head)\n",
    "output, attn_prob = attention(Q, K, V, attn_mask)\n",
    "print(output.size(), attn_prob.size())"
   ]
  },
  {
   "cell_type": "markdown",
   "metadata": {},
   "source": [
    "# 6. FeedForward\n",
    "$FFN(x)=max(0,xW_1+b_1)W_2+b_2$\n",
    "- The feed-forward layer is weights that is trained during training and the exact same matrix is applied to each respective token position.\n",
    "- Since it is applied without any communcation with or inference by other token positions it is a highly parallelizable part of the model.\n",
    "- The role and purpose is to process the output from one attention layer in a way to better fit the input for the next attention layer."
   ]
  },
  {
   "cell_type": "markdown",
   "metadata": {},
   "source": [
    "### f1 : Linear\n",
    "$f_1 = xW_1+b_1$"
   ]
  },
  {
   "cell_type": "code",
   "execution_count": 31,
   "metadata": {},
   "outputs": [
    {
     "name": "stdout",
     "output_type": "stream",
     "text": [
      "torch.Size([2, 512, 8])\n"
     ]
    }
   ],
   "source": [
    "conv1 = nn.Conv1d(in_channels=d_hidn, out_channels=d_hidn * 4, kernel_size=1)\n",
    "# (bs, d_hidn * 4, n_seq)\n",
    "ff_1 = conv1(output.transpose(1, 2))\n",
    "print(ff_1.size())"
   ]
  },
  {
   "cell_type": "markdown",
   "metadata": {},
   "source": [
    "### f2\n",
    "$f_2 = max(0,f_1)$\n",
    "### Activation\n",
    "- relu or gelu\n",
    "- 논문에는 relu를 사용했지만 이후 gelu를 사용할 때 더 성능이 좋다는 것이 발견됨"
   ]
  },
  {
   "cell_type": "code",
   "execution_count": 32,
   "metadata": {},
   "outputs": [],
   "source": [
    "# active = F.relu\n",
    "active = F.gelu\n",
    "ff_2 = active(ff_1)"
   ]
  },
  {
   "cell_type": "markdown",
   "metadata": {},
   "source": [
    "### f3(Linear)\n",
    "$f_3 = f_2w_2 + b_2$"
   ]
  },
  {
   "cell_type": "code",
   "execution_count": 33,
   "metadata": {},
   "outputs": [
    {
     "name": "stdout",
     "output_type": "stream",
     "text": [
      "torch.Size([2, 8, 128])\n"
     ]
    }
   ],
   "source": [
    "conv2 = nn.Conv1d(in_channels=d_hidn * 4, out_channels=d_hidn, kernel_size=1)\n",
    "ff_3 = conv2(ff_2).transpose(1, 2)\n",
    "print(ff_3.size())"
   ]
  },
  {
   "cell_type": "markdown",
   "metadata": {},
   "source": [
    "### PoswiseFeedForwardNet\n",
    "- Multi-Head Attention과 attention mask를 제외한 부분은 모두 동일"
   ]
  },
  {
   "cell_type": "code",
   "execution_count": 34,
   "metadata": {},
   "outputs": [],
   "source": [
    "\"\"\" feed forward \"\"\"\n",
    "class PoswiseFeedForwardNet(nn.Module):\n",
    "    def __init__(self, d_hidn):\n",
    "        super().__init__()\n",
    "\n",
    "        self.conv1 = nn.Conv1d(in_channels=self.config.d_hidn, out_channels=self.config.d_hidn * 4, kernel_size=1)\n",
    "        self.conv2 = nn.Conv1d(in_channels=self.config.d_hidn * 4, out_channels=self.config.d_hidn, kernel_size=1)\n",
    "        self.active = F.gelu\n",
    "\n",
    "    def forward(self, inputs):\n",
    "        # (bs, d_ff, n_seq)\n",
    "        output = self.active(self.conv1(inputs.transpose(1, 2)))\n",
    "        # (bs, n_seq, d_hidn)\n",
    "        output = self.conv2(output).transpose(1, 2)\n",
    "        # (bs, n_seq, d_hidn)\n",
    "        return output"
   ]
  },
  {
   "cell_type": "code",
   "execution_count": null,
   "metadata": {},
   "outputs": [],
   "source": []
  },
  {
   "cell_type": "code",
   "execution_count": null,
   "metadata": {},
   "outputs": [],
   "source": []
  },
  {
   "cell_type": "code",
   "execution_count": null,
   "metadata": {},
   "outputs": [],
   "source": []
  },
  {
   "cell_type": "code",
   "execution_count": null,
   "metadata": {},
   "outputs": [],
   "source": []
  },
  {
   "cell_type": "code",
   "execution_count": null,
   "metadata": {},
   "outputs": [],
   "source": []
  },
  {
   "cell_type": "code",
   "execution_count": null,
   "metadata": {},
   "outputs": [],
   "source": []
  }
 ],
 "metadata": {
  "kernelspec": {
   "display_name": "Python 3",
   "language": "python",
   "name": "python3"
  },
  "language_info": {
   "codemirror_mode": {
    "name": "ipython",
    "version": 3
   },
   "file_extension": ".py",
   "mimetype": "text/x-python",
   "name": "python",
   "nbconvert_exporter": "python",
   "pygments_lexer": "ipython3",
   "version": "3.7.6"
  }
 },
 "nbformat": 4,
 "nbformat_minor": 4
}
